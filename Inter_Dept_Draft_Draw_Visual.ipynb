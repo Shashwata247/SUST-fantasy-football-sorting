{
 "cells": [
  {
   "cell_type": "code",
   "execution_count": 26,
   "metadata": {},
   "outputs": [],
   "source": [
    "import random\n",
    "import time\n",
    "import pandas as pd\n",
    "import numpy as np\n",
    "from IPython.display import clear_output, display, HTML\n",
    "\n",
    "player_list = ['HADI SAMI','TANVIR AHMED SIAM', 'RUMI MINHAZ',\n",
    " 'MINHAJ HASAN', 'MAZAHRUL ISLAM','SHUVO DAS', 'SHUVO MONDAL', \n",
    "'OVI ASHRAFUL', 'MUYEED HASAN','MIR NIAZ AHMED', \n",
    "'SABUJ HASAN', 'RIPON DEY', 'EHSAN HAQUE',\n",
    "'MD SAJOL RANA', 'ASHRAF UDDIN TAFADAR']\n",
    "\n",
    "def draft_draw(player_list):\n",
    "    \n",
    "    df = pd.DataFrame(columns = ['GROUP A','GROUP B', 'GROUP C'])\n",
    "    count_b = 2\n",
    "    count_c = 2\n",
    "    print('\\n')\n",
    "    time.sleep(1)\n",
    "    #title = HTML('<p style=\"font-size:20px\"><b>!!! WELCOME TO SUSTIAN FANTASY DRAFT 2ND ROUND GROUP DRAW !!!</b></p>')\n",
    "    #display(title)\n",
    "    time.sleep(0.5)\n",
    "    print('Draw commencing....')\n",
    "    time.sleep(2)\n",
    "    clear_output()\n",
    "    \n",
    "    df = df.append({'GROUP A': 'SHASHWATA', 'GROUP B': 'DIPTO', 'GROUP C': 'AKIB'}, ignore_index = True)\n",
    "    df.index= np.arange(1, len(df)+1)\n",
    "    display(df)\n",
    "    time.sleep(0.5)\n",
    "    clear_output()\n",
    "    \n",
    "    while player_list != []:\n",
    "        \n",
    "        print('\\n')\n",
    "        #title = HTML('<p style=\"font-size:20px\"><b>!!! WELCOME TO PHYSICS FANTASY DRAFT GROUP DRAW !!!</b></p>')\n",
    "        #display(title)\n",
    "        \n",
    "        new_player_A = player_list.pop(random.randint(0,len(player_list)-1))\n",
    "        df = df.append({'GROUP A': new_player_A, 'GROUP B': '---', 'GROUP C': '---'}, ignore_index = True)\n",
    "        df.index = np.arange(1,len(df)+1)\n",
    "        display(df)\n",
    "        time.sleep(0.5)\n",
    "        clear_output()\n",
    "        \n",
    "        print('\\n')\n",
    "        #display(title)\n",
    "        new_player_B = player_list.pop(random.randint(0,len(player_list)-1))\n",
    "        df['GROUP B'][count_b] = new_player_B\n",
    "        display(df)\n",
    "        count_b += 1\n",
    "        if player_list != []:\n",
    "            time.sleep(0.5)\n",
    "            clear_output()\n",
    "        else:\n",
    "            time.sleep(0.5)\n",
    "            break\n",
    "    \n",
    "        \n",
    "        print('\\n')\n",
    "        #display(title)\n",
    "        new_player_C = player_list.pop(random.randint(0,len(player_list)-1))\n",
    "        df['GROUP C'][count_c] = new_player_C\n",
    "        display(df)\n",
    "        count_c += 1\n",
    "        if player_list != []:\n",
    "            time.sleep(0.5)\n",
    "            clear_output()\n",
    "        else:\n",
    "            time.sleep(0.5)\n",
    "            break\n",
    " \n",
    "        continue\n",
    "    \n",
    "    clear_output()\n",
    "    print('\\n')\n",
    "    display(HTML('<p style=\"font-size:20px\"><b>SUSTIAN FANTASY DRAFT 2ND ROUND GROUPS:</b></p>'))\n",
    "    display(df)"
   ]
  },
  {
   "cell_type": "code",
   "execution_count": 27,
   "metadata": {},
   "outputs": [
    {
     "name": "stdout",
     "output_type": "stream",
     "text": [
      "\n",
      "\n"
     ]
    },
    {
     "data": {
      "text/html": [
       "<p style=\"font-size:20px\"><b>SUSTIAN FANTASY DRAFT 2ND ROUND GROUPS:</b></p>"
      ],
      "text/plain": [
       "<IPython.core.display.HTML object>"
      ]
     },
     "metadata": {},
     "output_type": "display_data"
    },
    {
     "data": {
      "text/html": [
       "<div>\n",
       "<style scoped>\n",
       "    .dataframe tbody tr th:only-of-type {\n",
       "        vertical-align: middle;\n",
       "    }\n",
       "\n",
       "    .dataframe tbody tr th {\n",
       "        vertical-align: top;\n",
       "    }\n",
       "\n",
       "    .dataframe thead th {\n",
       "        text-align: right;\n",
       "    }\n",
       "</style>\n",
       "<table border=\"1\" class=\"dataframe\">\n",
       "  <thead>\n",
       "    <tr style=\"text-align: right;\">\n",
       "      <th></th>\n",
       "      <th>GROUP A</th>\n",
       "      <th>GROUP B</th>\n",
       "      <th>GROUP C</th>\n",
       "    </tr>\n",
       "  </thead>\n",
       "  <tbody>\n",
       "    <tr>\n",
       "      <th>1</th>\n",
       "      <td>SHASHWATA</td>\n",
       "      <td>DIPTO</td>\n",
       "      <td>AKIB</td>\n",
       "    </tr>\n",
       "    <tr>\n",
       "      <th>2</th>\n",
       "      <td>EHSAN HAQUE</td>\n",
       "      <td>OVI ASHRAFUL</td>\n",
       "      <td>MIR NIAZ AHMED</td>\n",
       "    </tr>\n",
       "    <tr>\n",
       "      <th>3</th>\n",
       "      <td>MINHAJ HASAN</td>\n",
       "      <td>TANVIR AHMED SIAM</td>\n",
       "      <td>MD SAJOL RANA</td>\n",
       "    </tr>\n",
       "    <tr>\n",
       "      <th>4</th>\n",
       "      <td>ASHRAF UDDIN TAFADAR</td>\n",
       "      <td>SHUVO MONDAL</td>\n",
       "      <td>SHUVO DAS</td>\n",
       "    </tr>\n",
       "    <tr>\n",
       "      <th>5</th>\n",
       "      <td>RUMI MINHAZ</td>\n",
       "      <td>MAZAHRUL ISLAM</td>\n",
       "      <td>HADI SAMI</td>\n",
       "    </tr>\n",
       "    <tr>\n",
       "      <th>6</th>\n",
       "      <td>MUYEED HASAN</td>\n",
       "      <td>RIPON DEY</td>\n",
       "      <td>SABUJ HASAN</td>\n",
       "    </tr>\n",
       "  </tbody>\n",
       "</table>\n",
       "</div>"
      ],
      "text/plain": [
       "                GROUP A            GROUP B         GROUP C\n",
       "1             SHASHWATA              DIPTO            AKIB\n",
       "2           EHSAN HAQUE       OVI ASHRAFUL  MIR NIAZ AHMED\n",
       "3          MINHAJ HASAN  TANVIR AHMED SIAM   MD SAJOL RANA\n",
       "4  ASHRAF UDDIN TAFADAR       SHUVO MONDAL       SHUVO DAS\n",
       "5           RUMI MINHAZ     MAZAHRUL ISLAM       HADI SAMI\n",
       "6          MUYEED HASAN          RIPON DEY     SABUJ HASAN"
      ]
     },
     "metadata": {},
     "output_type": "display_data"
    }
   ],
   "source": [
    "draft_draw(player_list)"
   ]
  },
  {
   "cell_type": "markdown",
   "metadata": {},
   "source": [
    ".\n",
    ".\n",
    ".\n",
    ".\n"
   ]
  },
  {
   "cell_type": "code",
   "execution_count": 1,
   "metadata": {},
   "outputs": [],
   "source": [
    "#### 3RD ROUND DRAW BELOW FOR 2 GROUPS ####"
   ]
  },
  {
   "cell_type": "code",
   "execution_count": 27,
   "metadata": {},
   "outputs": [],
   "source": [
    "import random\n",
    "import time\n",
    "import pandas as pd\n",
    "import numpy as np\n",
    "from IPython.display import clear_output, display, HTML\n",
    "\n",
    "player_list= ['TANVIR AHMED SIAM', 'RUMI MINHAZ',\n",
    " 'MINHAJ HASAN', 'MAZHARUL ISLAM','SHUVO DAS', 'SHUVO MONDAL', \n",
    "'SABUJ HASAN', 'RIPON DEY', 'EHSAN HAQUE',\n",
    "'MD SAJOL RANA', 'SHASHWATA SOURAV ROY', 'AKIB ZAMAN']\n",
    "\n",
    "def draft_draw(player_list):\n",
    "    \n",
    "    df = pd.DataFrame(columns = ['GROUP A','GROUP B'])\n",
    "    count = 1\n",
    "    print('\\n')\n",
    "    time.sleep(1)\n",
    "    title = HTML('<p style=\"font-size:20px\"><b>!!! WELCOME TO PHYSICS FANTASY DRAFT GROUP DRAW !!!</b></p>')\n",
    "    display(title)\n",
    "    time.sleep(0.5)\n",
    "    print('Draw commencing....')\n",
    "    time.sleep(1)\n",
    "    clear_output()\n",
    "        \n",
    "    while player_list != []:\n",
    "        \n",
    "        print('\\n')\n",
    "        title = HTML('<p style=\"font-size:20px\"><b>!!! WELCOME TO PHYSICS FANTASY DRAFT GROUP DRAW !!!</b></p>')\n",
    "        display(title)\n",
    "        \n",
    "        new_player_A = player_list.pop(random.randint(0,len(player_list)-1))\n",
    "        df = df.append({'GROUP A': new_player_A, 'GROUP B': '---'}, ignore_index = True)\n",
    "        df.index = np.arange(1,len(df)+1)\n",
    "        display(df)\n",
    "        time.sleep(0.5)\n",
    "        clear_output()\n",
    "        \n",
    "        print('\\n')\n",
    "        display(title)\n",
    "        new_player_B = player_list.pop(random.randint(0,len(player_list)-1))\n",
    "        df['GROUP B'][count] = new_player_B\n",
    "        display(df)\n",
    "        count += 1\n",
    "        if player_list != []:\n",
    "            time.sleep(0.5)\n",
    "            clear_output()\n",
    "        else:\n",
    "            time.sleep(0.5)\n",
    "            \n",
    "            break\n",
    "    \n",
    "        continue\n",
    "    \n",
    "    clear_output()\n",
    "    print('\\n')\n",
    "    display(HTML('<p style=\"font-size:15px\"><b>SUSTIAN FANTASY DRAFT 3RD ROUND GROUPS:</b></p>'))\n",
    "    display(df)"
   ]
  },
  {
   "cell_type": "code",
   "execution_count": 28,
   "metadata": {},
   "outputs": [
    {
     "name": "stdout",
     "output_type": "stream",
     "text": [
      "\n",
      "\n"
     ]
    },
    {
     "data": {
      "text/html": [
       "<p style=\"font-size:15px\"><b>SUSTIAN FANTASY DRAFT 3RD ROUND GROUPS:</b></p>"
      ],
      "text/plain": [
       "<IPython.core.display.HTML object>"
      ]
     },
     "metadata": {},
     "output_type": "display_data"
    },
    {
     "data": {
      "text/html": [
       "<div>\n",
       "<style scoped>\n",
       "    .dataframe tbody tr th:only-of-type {\n",
       "        vertical-align: middle;\n",
       "    }\n",
       "\n",
       "    .dataframe tbody tr th {\n",
       "        vertical-align: top;\n",
       "    }\n",
       "\n",
       "    .dataframe thead th {\n",
       "        text-align: right;\n",
       "    }\n",
       "</style>\n",
       "<table border=\"1\" class=\"dataframe\">\n",
       "  <thead>\n",
       "    <tr style=\"text-align: right;\">\n",
       "      <th></th>\n",
       "      <th>GROUP A</th>\n",
       "      <th>GROUP B</th>\n",
       "    </tr>\n",
       "  </thead>\n",
       "  <tbody>\n",
       "    <tr>\n",
       "      <th>1</th>\n",
       "      <td>MAZHARUL ISLAM</td>\n",
       "      <td>AKIB ZAMAN</td>\n",
       "    </tr>\n",
       "    <tr>\n",
       "      <th>2</th>\n",
       "      <td>EHSAN HAQUE</td>\n",
       "      <td>RUMI MINHAZ</td>\n",
       "    </tr>\n",
       "    <tr>\n",
       "      <th>3</th>\n",
       "      <td>MINHAJ HASAN</td>\n",
       "      <td>SHUVO DAS</td>\n",
       "    </tr>\n",
       "    <tr>\n",
       "      <th>4</th>\n",
       "      <td>MD SAJOL RANA</td>\n",
       "      <td>SABUJ HASAN</td>\n",
       "    </tr>\n",
       "    <tr>\n",
       "      <th>5</th>\n",
       "      <td>SHASHWATA SOURAV ROY</td>\n",
       "      <td>TANVIR AHMED SIAM</td>\n",
       "    </tr>\n",
       "    <tr>\n",
       "      <th>6</th>\n",
       "      <td>SHUVO MONDAL</td>\n",
       "      <td>RIPON DEY</td>\n",
       "    </tr>\n",
       "  </tbody>\n",
       "</table>\n",
       "</div>"
      ],
      "text/plain": [
       "                GROUP A            GROUP B\n",
       "1        MAZHARUL ISLAM         AKIB ZAMAN\n",
       "2           EHSAN HAQUE        RUMI MINHAZ\n",
       "3          MINHAJ HASAN          SHUVO DAS\n",
       "4         MD SAJOL RANA        SABUJ HASAN\n",
       "5  SHASHWATA SOURAV ROY  TANVIR AHMED SIAM\n",
       "6          SHUVO MONDAL          RIPON DEY"
      ]
     },
     "metadata": {},
     "output_type": "display_data"
    }
   ],
   "source": [
    "draft_draw(player_list)"
   ]
  },
  {
   "cell_type": "markdown",
   "metadata": {},
   "source": [
    "..."
   ]
  },
  {
   "cell_type": "markdown",
   "metadata": {},
   "source": [
    "..."
   ]
  },
  {
   "cell_type": "code",
   "execution_count": null,
   "metadata": {},
   "outputs": [],
   "source": []
  }
 ],
 "metadata": {
  "kernelspec": {
   "display_name": "Python 3",
   "language": "python",
   "name": "python3"
  },
  "language_info": {
   "codemirror_mode": {
    "name": "ipython",
    "version": 3
   },
   "file_extension": ".py",
   "mimetype": "text/x-python",
   "name": "python",
   "nbconvert_exporter": "python",
   "pygments_lexer": "ipython3",
   "version": "3.7.6"
  }
 },
 "nbformat": 4,
 "nbformat_minor": 4
}
