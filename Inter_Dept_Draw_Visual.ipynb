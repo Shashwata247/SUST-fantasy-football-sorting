{
 "cells": [
  {
   "cell_type": "code",
   "execution_count": 17,
   "metadata": {},
   "outputs": [],
   "source": [
    "import random\n",
    "import time\n",
    "import pandas as pd\n",
    "import numpy as np\n",
    "from IPython.display import clear_output, display, HTML\n",
    "\n",
    "player_list = ['IPE','CEP','PME','GEE','PAD','CSE','FET', 'PHY','FES','CEE','ECO','ANP','MAT','SWE','BMB']\n",
    "\n",
    "def draft_draw(player_list):\n",
    "    \n",
    "    df = pd.DataFrame(columns = ['GROUP A','GROUP B', 'GROUP C'])\n",
    "    count_b = 2\n",
    "    count_c = 2\n",
    "    print('\\n')\n",
    "    time.sleep(1)\n",
    "    #title = HTML('<p style=\"font-size:20px\"><b>!!! WELCOME TO SUSTIAN FANTASY DRAFT 2ND ROUND GROUP DRAW !!!</b></p>')\n",
    "    #display(title)\n",
    "    time.sleep(0.5)\n",
    "    print('Draw commencing....')\n",
    "    time.sleep(2)\n",
    "    clear_output()\n",
    "    \n",
    "    df = df.append({'GROUP A': 'AVERAGE', 'GROUP B': 'AVERAGE', 'GROUP C': 'AVERAGE'}, ignore_index = True)\n",
    "    df.index= np.arange(1, len(df)+1)\n",
    "    display(df)\n",
    "    time.sleep(0.5)\n",
    "    clear_output()\n",
    "    \n",
    "    while player_list != []:\n",
    "        \n",
    "        print('\\n')\n",
    "        #title = HTML('<p style=\"font-size:20px\"><b>!!! WELCOME TO PHYSICS FANTASY DRAFT GROUP DRAW !!!</b></p>')\n",
    "        #display(title)\n",
    "        \n",
    "        new_player_A = player_list.pop(random.randint(0,len(player_list)-1))\n",
    "        df = df.append({'GROUP A': new_player_A, 'GROUP B': '---', 'GROUP C': '---'}, ignore_index = True)\n",
    "        df.index = np.arange(1,len(df)+1)\n",
    "        display(df)\n",
    "        time.sleep(0.5)\n",
    "        clear_output()\n",
    "        \n",
    "        print('\\n')\n",
    "        #display(title)\n",
    "        new_player_B = player_list.pop(random.randint(0,len(player_list)-1))\n",
    "        df['GROUP B'][count_b] = new_player_B\n",
    "        display(df)\n",
    "        count_b += 1\n",
    "        if player_list != []:\n",
    "            time.sleep(0.5)\n",
    "            clear_output()\n",
    "        else:\n",
    "            time.sleep(0.5)\n",
    "            break\n",
    "    \n",
    "        \n",
    "        print('\\n')\n",
    "        #display(title)\n",
    "        new_player_C = player_list.pop(random.randint(0,len(player_list)-1))\n",
    "        df['GROUP C'][count_c] = new_player_C\n",
    "        display(df)\n",
    "        count_c += 1\n",
    "        if player_list != []:\n",
    "            time.sleep(0.5)\n",
    "            clear_output()\n",
    "        else:\n",
    "            time.sleep(0.5)\n",
    "            break\n",
    " \n",
    "        continue\n",
    "    \n",
    "    clear_output()\n",
    "    print('\\n')\n",
    "    display(HTML('<p style=\"font-size:20px\"><b>SUSTIAN FANTASY WAR V2.0 ROUND 1 GROUPS:</b></p>'))\n",
    "    display(df)"
   ]
  },
  {
   "cell_type": "code",
   "execution_count": 18,
   "metadata": {},
   "outputs": [
    {
     "name": "stdout",
     "output_type": "stream",
     "text": [
      "\n",
      "\n"
     ]
    },
    {
     "data": {
      "text/html": [
       "<p style=\"font-size:20px\"><b>SUSTIAN FANTASY WAR V2.0 ROUND 1 GROUPS:</b></p>"
      ],
      "text/plain": [
       "<IPython.core.display.HTML object>"
      ]
     },
     "metadata": {},
     "output_type": "display_data"
    },
    {
     "data": {
      "text/html": [
       "<div>\n",
       "<style scoped>\n",
       "    .dataframe tbody tr th:only-of-type {\n",
       "        vertical-align: middle;\n",
       "    }\n",
       "\n",
       "    .dataframe tbody tr th {\n",
       "        vertical-align: top;\n",
       "    }\n",
       "\n",
       "    .dataframe thead th {\n",
       "        text-align: right;\n",
       "    }\n",
       "</style>\n",
       "<table border=\"1\" class=\"dataframe\">\n",
       "  <thead>\n",
       "    <tr style=\"text-align: right;\">\n",
       "      <th></th>\n",
       "      <th>GROUP A</th>\n",
       "      <th>GROUP B</th>\n",
       "      <th>GROUP C</th>\n",
       "    </tr>\n",
       "  </thead>\n",
       "  <tbody>\n",
       "    <tr>\n",
       "      <th>1</th>\n",
       "      <td>AVERAGE</td>\n",
       "      <td>AVERAGE</td>\n",
       "      <td>AVERAGE</td>\n",
       "    </tr>\n",
       "    <tr>\n",
       "      <th>2</th>\n",
       "      <td>FET</td>\n",
       "      <td>CEP</td>\n",
       "      <td>BMB</td>\n",
       "    </tr>\n",
       "    <tr>\n",
       "      <th>3</th>\n",
       "      <td>MAT</td>\n",
       "      <td>FES</td>\n",
       "      <td>IPE</td>\n",
       "    </tr>\n",
       "    <tr>\n",
       "      <th>4</th>\n",
       "      <td>PME</td>\n",
       "      <td>ECO</td>\n",
       "      <td>SWE</td>\n",
       "    </tr>\n",
       "    <tr>\n",
       "      <th>5</th>\n",
       "      <td>ANP</td>\n",
       "      <td>PHY</td>\n",
       "      <td>PAD</td>\n",
       "    </tr>\n",
       "    <tr>\n",
       "      <th>6</th>\n",
       "      <td>CEE</td>\n",
       "      <td>GEE</td>\n",
       "      <td>CSE</td>\n",
       "    </tr>\n",
       "  </tbody>\n",
       "</table>\n",
       "</div>"
      ],
      "text/plain": [
       "   GROUP A  GROUP B  GROUP C\n",
       "1  AVERAGE  AVERAGE  AVERAGE\n",
       "2      FET      CEP      BMB\n",
       "3      MAT      FES      IPE\n",
       "4      PME      ECO      SWE\n",
       "5      ANP      PHY      PAD\n",
       "6      CEE      GEE      CSE"
      ]
     },
     "metadata": {},
     "output_type": "display_data"
    }
   ],
   "source": [
    "draft_draw(player_list)"
   ]
  },
  {
   "cell_type": "markdown",
   "metadata": {},
   "source": [
    "# ROUND 2 DRAW\n"
   ]
  },
  {
   "cell_type": "code",
   "execution_count": 1,
   "metadata": {},
   "outputs": [],
   "source": [
    "import random\n",
    "import time\n",
    "import pandas as pd\n",
    "import numpy as np\n",
    "from IPython.display import clear_output, display, HTML\n",
    "\n",
    "player_list = ['PME','GEE','PAD','CSE','FET', 'PHY','CEE','MAT']\n",
    "\n",
    "def draft_draw(player_list):\n",
    "    \n",
    "    df = pd.DataFrame(columns = ['QF1','QF2', 'QF3', 'QF4'])\n",
    "    count_b = 1\n",
    "    count_c = 1\n",
    "    count_d = 1\n",
    "    print('\\n')\n",
    "    time.sleep(1)\n",
    "    #title = HTML('<p style=\"font-size:20px\"><b>!!! WELCOME TO SUSTIAN FANTASY DRAFT 2ND ROUND GROUP DRAW !!!</b></p>')\n",
    "    #display(title)\n",
    "    time.sleep(0.5)\n",
    "    print('Draw commencing....')\n",
    "    time.sleep(2)\n",
    "    clear_output()\n",
    "    \n",
    "    while player_list != []:\n",
    "        \n",
    "        print('\\n')\n",
    "        #title = HTML('<p style=\"font-size:20px\"><b>!!! WELCOME TO PHYSICS FANTASY DRAFT GROUP DRAW !!!</b></p>')\n",
    "        #display(title)\n",
    "        \n",
    "        new_player_A = player_list.pop(random.randint(0,len(player_list)-1))\n",
    "        df = df.append({'QF1': new_player_A, 'QF2': '---', 'QF3': '---', 'QF4': '---'}, ignore_index = True)\n",
    "        df.index = np.arange(1,len(df)+1)\n",
    "        display(df)\n",
    "        time.sleep(0.5)\n",
    "        clear_output()\n",
    "        \n",
    "        print('\\n')\n",
    "        #display(title)\n",
    "        new_player_B = player_list.pop(random.randint(0,len(player_list)-1))\n",
    "        df['QF2'][count_b] = new_player_B\n",
    "        display(df)\n",
    "        count_b += 1\n",
    "        if player_list != []:\n",
    "            time.sleep(0.5)\n",
    "            clear_output()\n",
    "        else:\n",
    "            time.sleep(0.5)\n",
    "            break\n",
    "    \n",
    "        \n",
    "        print('\\n')\n",
    "        #display(title)\n",
    "        new_player_C = player_list.pop(random.randint(0,len(player_list)-1))\n",
    "        df['QF3'][count_c] = new_player_C\n",
    "        display(df)\n",
    "        count_c += 1\n",
    "        if player_list != []:\n",
    "            time.sleep(0.5)\n",
    "            clear_output()\n",
    "        else:\n",
    "            time.sleep(0.5)\n",
    "            break\n",
    "            \n",
    "        print('\\n')\n",
    "        #display(title)\n",
    "        new_player_D = player_list.pop(random.randint(0,len(player_list)-1))\n",
    "        df['QF4'][count_d] = new_player_D\n",
    "        display(df)\n",
    "        count_d += 1\n",
    "        if player_list != []:\n",
    "            time.sleep(0.5)\n",
    "            clear_output()\n",
    "        else:\n",
    "            time.sleep(0.5)\n",
    "            break\n",
    "     \n",
    " \n",
    "        continue\n",
    "    \n",
    "    clear_output()\n",
    "    print('\\n')\n",
    "    display(HTML('<p style=\"font-size:20px\"><b>SUSTIAN FANTASY WAR V2.0 ROUND 2 GROUPS:</b></p>'))\n",
    "    display(df)"
   ]
  },
  {
   "cell_type": "code",
   "execution_count": 2,
   "metadata": {},
   "outputs": [
    {
     "name": "stdout",
     "output_type": "stream",
     "text": [
      "\n",
      "\n"
     ]
    },
    {
     "data": {
      "text/html": [
       "<p style=\"font-size:20px\"><b>SUSTIAN FANTASY WAR V2.0 ROUND 2 GROUPS:</b></p>"
      ],
      "text/plain": [
       "<IPython.core.display.HTML object>"
      ]
     },
     "metadata": {},
     "output_type": "display_data"
    },
    {
     "data": {
      "text/html": [
       "<div>\n",
       "<style scoped>\n",
       "    .dataframe tbody tr th:only-of-type {\n",
       "        vertical-align: middle;\n",
       "    }\n",
       "\n",
       "    .dataframe tbody tr th {\n",
       "        vertical-align: top;\n",
       "    }\n",
       "\n",
       "    .dataframe thead th {\n",
       "        text-align: right;\n",
       "    }\n",
       "</style>\n",
       "<table border=\"1\" class=\"dataframe\">\n",
       "  <thead>\n",
       "    <tr style=\"text-align: right;\">\n",
       "      <th></th>\n",
       "      <th>QF1</th>\n",
       "      <th>QF2</th>\n",
       "      <th>QF3</th>\n",
       "      <th>QF4</th>\n",
       "    </tr>\n",
       "  </thead>\n",
       "  <tbody>\n",
       "    <tr>\n",
       "      <th>1</th>\n",
       "      <td>CEE</td>\n",
       "      <td>CSE</td>\n",
       "      <td>MAT</td>\n",
       "      <td>FET</td>\n",
       "    </tr>\n",
       "    <tr>\n",
       "      <th>2</th>\n",
       "      <td>PME</td>\n",
       "      <td>GEE</td>\n",
       "      <td>PHY</td>\n",
       "      <td>PAD</td>\n",
       "    </tr>\n",
       "  </tbody>\n",
       "</table>\n",
       "</div>"
      ],
      "text/plain": [
       "   QF1  QF2  QF3  QF4\n",
       "1  CEE  CSE  MAT  FET\n",
       "2  PME  GEE  PHY  PAD"
      ]
     },
     "metadata": {},
     "output_type": "display_data"
    }
   ],
   "source": [
    "draft_draw(player_list)"
   ]
  },
  {
   "cell_type": "markdown",
   "metadata": {},
   "source": [
    "."
   ]
  },
  {
   "cell_type": "markdown",
   "metadata": {},
   "source": [
    "."
   ]
  },
  {
   "cell_type": "code",
   "execution_count": 14,
   "metadata": {},
   "outputs": [
    {
     "data": {
      "text/plain": [
       "['PME', 'GEE', 'PAD', 'CSE', 'FET', 'PHY', 'CEE', 'MAT']"
      ]
     },
     "execution_count": 14,
     "metadata": {},
     "output_type": "execute_result"
    }
   ],
   "source": [
    "player_list = ['PME','GEE','PAD','CSE','FET', 'PHY','CEE','MAT']\n",
    "\n",
    "player_list"
   ]
  },
  {
   "cell_type": "code",
   "execution_count": null,
   "metadata": {},
   "outputs": [],
   "source": []
  }
 ],
 "metadata": {
  "kernelspec": {
   "display_name": "Python 3",
   "language": "python",
   "name": "python3"
  },
  "language_info": {
   "codemirror_mode": {
    "name": "ipython",
    "version": 3
   },
   "file_extension": ".py",
   "mimetype": "text/x-python",
   "name": "python",
   "nbconvert_exporter": "python",
   "pygments_lexer": "ipython3",
   "version": "3.7.6"
  }
 },
 "nbformat": 4,
 "nbformat_minor": 4
}
