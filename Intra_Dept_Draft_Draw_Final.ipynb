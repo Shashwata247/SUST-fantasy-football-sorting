{
 "cells": [
  {
   "cell_type": "code",
   "execution_count": 1,
   "metadata": {},
   "outputs": [],
   "source": [
    "import random\n",
    "import time\n",
    "import pandas as pd\n",
    "import numpy as np\n",
    "from IPython.display import clear_output, display, HTML\n",
    "\n",
    "player_list= ['ADIL','SHAMIM','SHUVO', 'SAJOL', 'REDOWAN', 'DIGANTA', 'KONOK', 'MAHED', 'ANKAN', 'RUMI', 'ADNAN', 'SHASHWATA']\n",
    "\n",
    "def draft_draw(player_list):\n",
    "    \n",
    "    df = pd.DataFrame(columns = ['GROUP A','GROUP B'])\n",
    "    count = 1\n",
    "    print('\\n')\n",
    "    time.sleep(7)\n",
    "    title = HTML('<p style=\"font-size:20px\"><b>!!! WELCOME TO PHYSICS FANTASY DRAFT GROUP DRAW !!!</b></p>')\n",
    "    display(title)\n",
    "    time.sleep(0.5)\n",
    "    print('Draw commencing....')\n",
    "    time.sleep(2)\n",
    "    clear_output()\n",
    "        \n",
    "    while player_list != []:\n",
    "        \n",
    "        print('\\n')\n",
    "        title = HTML('<p style=\"font-size:20px\"><b>!!! WELCOME TO PHYSICS FANTASY DRAFT GROUP DRAW !!!</b></p>')\n",
    "        display(title)\n",
    "        \n",
    "        new_player_A = player_list.pop(random.randint(0,len(player_list)-1))\n",
    "        df = df.append({'GROUP A': new_player_A, 'GROUP B': '---'}, ignore_index = True)\n",
    "        df.index = np.arange(1,len(df)+1)\n",
    "        display(df)\n",
    "        time.sleep(3.5)\n",
    "        clear_output()\n",
    "        \n",
    "        print('\\n')\n",
    "        display(title)\n",
    "        new_player_B = player_list.pop(random.randint(0,len(player_list)-1))\n",
    "        df['GROUP B'][count] = new_player_B\n",
    "        display(df)\n",
    "        count += 1\n",
    "        if player_list != []:\n",
    "            time.sleep(3.5)\n",
    "            clear_output()\n",
    "        else:\n",
    "            time.sleep(0.5)\n",
    "            break\n",
    "    \n",
    "        continue\n",
    "    \n",
    "    clear_output()\n",
    "    print('\\n')\n",
    "    display(HTML('<p style=\"font-size:20px\"><b>FINAL GROUPS:</b></p>'))\n",
    "    display(df)"
   ]
  },
  {
   "cell_type": "markdown",
   "metadata": {},
   "source": [
    "."
   ]
  },
  {
   "cell_type": "markdown",
   "metadata": {},
   "source": [
    "."
   ]
  },
  {
   "cell_type": "markdown",
   "metadata": {},
   "source": [
    "."
   ]
  },
  {
   "cell_type": "markdown",
   "metadata": {},
   "source": [
    "."
   ]
  },
  {
   "cell_type": "markdown",
   "metadata": {},
   "source": [
    "."
   ]
  },
  {
   "cell_type": "markdown",
   "metadata": {},
   "source": [
    "."
   ]
  },
  {
   "cell_type": "markdown",
   "metadata": {},
   "source": [
    "."
   ]
  },
  {
   "cell_type": "code",
   "execution_count": 62,
   "metadata": {},
   "outputs": [
    {
     "name": "stdout",
     "output_type": "stream",
     "text": [
      "\n",
      "\n"
     ]
    },
    {
     "data": {
      "text/html": [
       "<p style=\"font-size:20px\"><b>FINAL GROUPS:</b></p>"
      ],
      "text/plain": [
       "<IPython.core.display.HTML object>"
      ]
     },
     "metadata": {},
     "output_type": "display_data"
    },
    {
     "data": {
      "text/html": [
       "<div>\n",
       "<style scoped>\n",
       "    .dataframe tbody tr th:only-of-type {\n",
       "        vertical-align: middle;\n",
       "    }\n",
       "\n",
       "    .dataframe tbody tr th {\n",
       "        vertical-align: top;\n",
       "    }\n",
       "\n",
       "    .dataframe thead th {\n",
       "        text-align: right;\n",
       "    }\n",
       "</style>\n",
       "<table border=\"1\" class=\"dataframe\">\n",
       "  <thead>\n",
       "    <tr style=\"text-align: right;\">\n",
       "      <th></th>\n",
       "      <th>GROUP A</th>\n",
       "      <th>GROUP B</th>\n",
       "    </tr>\n",
       "  </thead>\n",
       "  <tbody>\n",
       "    <tr>\n",
       "      <th>1</th>\n",
       "      <td>SAJOL</td>\n",
       "      <td>SHUVO</td>\n",
       "    </tr>\n",
       "    <tr>\n",
       "      <th>2</th>\n",
       "      <td>KONOK</td>\n",
       "      <td>MAHED</td>\n",
       "    </tr>\n",
       "    <tr>\n",
       "      <th>3</th>\n",
       "      <td>SHAMIM</td>\n",
       "      <td>SHASHWATA</td>\n",
       "    </tr>\n",
       "    <tr>\n",
       "      <th>4</th>\n",
       "      <td>ADIL</td>\n",
       "      <td>REDOWAN</td>\n",
       "    </tr>\n",
       "    <tr>\n",
       "      <th>5</th>\n",
       "      <td>DIGANTA</td>\n",
       "      <td>ADNAN</td>\n",
       "    </tr>\n",
       "    <tr>\n",
       "      <th>6</th>\n",
       "      <td>ANKAN</td>\n",
       "      <td>RUMI</td>\n",
       "    </tr>\n",
       "  </tbody>\n",
       "</table>\n",
       "</div>"
      ],
      "text/plain": [
       "   GROUP A    GROUP B\n",
       "1    SAJOL      SHUVO\n",
       "2    KONOK      MAHED\n",
       "3   SHAMIM  SHASHWATA\n",
       "4     ADIL    REDOWAN\n",
       "5  DIGANTA      ADNAN\n",
       "6    ANKAN       RUMI"
      ]
     },
     "metadata": {},
     "output_type": "display_data"
    }
   ],
   "source": [
    "draft_draw(player_list)"
   ]
  },
  {
   "cell_type": "markdown",
   "metadata": {},
   "source": [
    "."
   ]
  },
  {
   "cell_type": "markdown",
   "metadata": {},
   "source": [
    "."
   ]
  },
  {
   "cell_type": "markdown",
   "metadata": {},
   "source": [
    "."
   ]
  },
  {
   "cell_type": "markdown",
   "metadata": {},
   "source": [
    "."
   ]
  },
  {
   "cell_type": "markdown",
   "metadata": {},
   "source": [
    "."
   ]
  },
  {
   "cell_type": "markdown",
   "metadata": {},
   "source": [
    "."
   ]
  },
  {
   "cell_type": "markdown",
   "metadata": {},
   "source": [
    "."
   ]
  },
  {
   "cell_type": "markdown",
   "metadata": {},
   "source": [
    "."
   ]
  },
  {
   "cell_type": "markdown",
   "metadata": {},
   "source": [
    "."
   ]
  },
  {
   "cell_type": "markdown",
   "metadata": {},
   "source": [
    "."
   ]
  }
 ],
 "metadata": {
  "kernelspec": {
   "display_name": "Python 3",
   "language": "python",
   "name": "python3"
  },
  "language_info": {
   "codemirror_mode": {
    "name": "ipython",
    "version": 3
   },
   "file_extension": ".py",
   "mimetype": "text/x-python",
   "name": "python",
   "nbconvert_exporter": "python",
   "pygments_lexer": "ipython3",
   "version": "3.7.6"
  }
 },
 "nbformat": 4,
 "nbformat_minor": 4
}
